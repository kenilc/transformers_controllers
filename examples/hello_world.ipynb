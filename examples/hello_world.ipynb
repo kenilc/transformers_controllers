{
 "cells": [
  {
   "cell_type": "code",
   "execution_count": 1,
   "id": "58b68528",
   "metadata": {},
   "outputs": [],
   "source": [
    "import torch\n",
    "\n",
    "from transformers import (\n",
    "    AutoTokenizer,\n",
    "    AutoModelForCausalLM,\n",
    "    LogitsProcessorList,\n",
    "    StoppingCriteriaList\n",
    ")\n",
    "\n",
    "from transformers_controllers import (\n",
    "    SuffixCriteria,\n",
    "    GoodPhrasesLogitsProcessor,\n",
    "    ConstantLogitsWarper\n",
    ")"
   ]
  },
  {
   "cell_type": "code",
   "execution_count": 2,
   "id": "70fa1b44",
   "metadata": {},
   "outputs": [],
   "source": [
    "tokenizer = AutoTokenizer.from_pretrained('gpt2')\n",
    "model = AutoModelForCausalLM.from_pretrained('gpt2')"
   ]
  },
  {
   "cell_type": "code",
   "execution_count": 3,
   "id": "e62ff4b2",
   "metadata": {},
   "outputs": [],
   "source": [
    "def generate(\n",
    "    prompt,\n",
    "    seed,\n",
    "    stopping_criteria=None,\n",
    "    logits_processor=None,\n",
    "    logits_warper=None,\n",
    "    max_length=30\n",
    "):\n",
    "    input_ids = tokenizer.encode(prompt, return_tensors='pt')\n",
    "    \n",
    "    torch.manual_seed(seed)\n",
    "    with torch.no_grad():\n",
    "        output = model.sample(\n",
    "            input_ids,\n",
    "            logits_processor=logits_processor,\n",
    "            logits_warper=logits_warper,\n",
    "            stopping_criteria=stopping_criteria,\n",
    "            pad_token_id=tokenizer.eos_token_id,\n",
    "            max_length=max_length\n",
    "        )\n",
    "\n",
    "    return tokenizer.decode(output[0], skip_special_tokens=True)"
   ]
  },
  {
   "cell_type": "code",
   "execution_count": 4,
   "id": "c769226e",
   "metadata": {},
   "outputs": [],
   "source": [
    "# Stop the generation when it hits either of these punctuations.\n",
    "stopping_criteria = StoppingCriteriaList([\n",
    "    SuffixCriteria([\n",
    "        tokenizer.encode(suffix) for suffix in ['.', '!', '?', '...']\n",
    "    ])\n",
    "])"
   ]
  },
  {
   "cell_type": "code",
   "execution_count": 5,
   "id": "83f843a3",
   "metadata": {},
   "outputs": [],
   "source": [
    "# Only use these words in the generated output.\n",
    "logits_processor = LogitsProcessorList([\n",
    "    GoodPhrasesLogitsProcessor([\n",
    "        tokenizer.encode(phrase) for phrase in [\n",
    "            '!', ',', '.',\n",
    "            # GPT2 tokenizer includes leading whitespace in the tokens.\n",
    "            ' saw', ' morning', ' bird',\n",
    "            ' lion', ' I', ' a', ' the', ' in',\n",
    "        ]\n",
    "    ])\n",
    "])"
   ]
  },
  {
   "cell_type": "code",
   "execution_count": 6,
   "id": "94bad538",
   "metadata": {},
   "outputs": [],
   "source": [
    "deltas = torch.zeros(tokenizer.vocab_size)\n",
    "# Give lion higher chance to appear.\n",
    "deltas[tokenizer.encode(' lion')] = 2.5\n",
    "# Also try to end the sentence earlier.\n",
    "deltas[tokenizer.encode('.')] = 2.5\n",
    "\n",
    "logits_warper = LogitsProcessorList([\n",
    "    ConstantLogitsWarper(deltas)\n",
    "])"
   ]
  },
  {
   "cell_type": "code",
   "execution_count": 7,
   "id": "d683d59f",
   "metadata": {},
   "outputs": [],
   "source": [
    "seed = 256"
   ]
  },
  {
   "cell_type": "code",
   "execution_count": 8,
   "id": "5201d145",
   "metadata": {},
   "outputs": [
    {
     "data": {
      "text/plain": [
       "'This morning, when I was walking in the park, I looked up and'"
      ]
     },
     "execution_count": 8,
     "metadata": {},
     "output_type": "execute_result"
    }
   ],
   "source": [
    "prompt = 'This morning, when I was walking in the park, I looked up and'\n",
    "prompt"
   ]
  },
  {
   "cell_type": "code",
   "execution_count": 9,
   "id": "356ccf8e",
   "metadata": {},
   "outputs": [
    {
     "data": {
      "text/plain": [
       "'This morning, when I was walking in the park, I looked up and saw a Rita Skeeter painting. I was wearing my suit that day in'"
      ]
     },
     "execution_count": 9,
     "metadata": {},
     "output_type": "execute_result"
    }
   ],
   "source": [
    "# Uncontrolled output from GPT2.\n",
    "generate(prompt, seed)"
   ]
  },
  {
   "cell_type": "code",
   "execution_count": 10,
   "id": "32426850",
   "metadata": {},
   "outputs": [
    {
     "data": {
      "text/plain": [
       "'This morning, when I was walking in the park, I looked up and saw a Rita Skeeter painting.'"
      ]
     },
     "execution_count": 10,
     "metadata": {},
     "output_type": "execute_result"
    }
   ],
   "source": [
    "# Stop when the first sentence completes.\n",
    "generate(prompt, seed, stopping_criteria)"
   ]
  },
  {
   "cell_type": "code",
   "execution_count": 11,
   "id": "a723b67a",
   "metadata": {},
   "outputs": [
    {
     "data": {
      "text/plain": [
       "'This morning, when I was walking in the park, I looked up and saw a bird, I saw the bird.'"
      ]
     },
     "execution_count": 11,
     "metadata": {},
     "output_type": "execute_result"
    }
   ],
   "source": [
    "# Use only words in our word list.\n",
    "generate(prompt, seed, stopping_criteria, logits_processor)"
   ]
  },
  {
   "cell_type": "code",
   "execution_count": 12,
   "id": "41b9de9a",
   "metadata": {},
   "outputs": [
    {
     "data": {
      "text/plain": [
       "'This morning, when I was walking in the park, I looked up and saw a lion.'"
      ]
     },
     "execution_count": 12,
     "metadata": {},
     "output_type": "execute_result"
    }
   ],
   "source": [
    "# I like lions.\n",
    "generate(prompt, seed, stopping_criteria, logits_processor, logits_warper)"
   ]
  },
  {
   "cell_type": "code",
   "execution_count": null,
   "id": "a0244f4e",
   "metadata": {},
   "outputs": [],
   "source": []
  }
 ],
 "metadata": {
  "environment": {
   "name": "common-cpu.m65",
   "type": "gcloud",
   "uri": "gcr.io/deeplearning-platform-release/base-cpu:m65"
  },
  "kernelspec": {
   "display_name": "Python 3",
   "language": "python",
   "name": "python3"
  },
  "language_info": {
   "codemirror_mode": {
    "name": "ipython",
    "version": 3
   },
   "file_extension": ".py",
   "mimetype": "text/x-python",
   "name": "python",
   "nbconvert_exporter": "python",
   "pygments_lexer": "ipython3",
   "version": "3.7.10"
  }
 },
 "nbformat": 4,
 "nbformat_minor": 5
}
